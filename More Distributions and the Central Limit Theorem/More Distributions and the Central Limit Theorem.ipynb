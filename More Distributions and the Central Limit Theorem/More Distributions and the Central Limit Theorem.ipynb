{
 "cells": [
  {
   "cell_type": "markdown",
   "id": "4a5590c8",
   "metadata": {},
   "source": [
    "## Distributions "
   ]
  },
  {
   "cell_type": "markdown",
   "id": "2856f19f",
   "metadata": {},
   "source": [
    "It’s time to explore one of the most important probability distributions in statistics, normal distribution. We’ll create histograms to plot normal distributions and gain an understanding of the central limit theorem, before expanding your knowledge of statistical functions by adding the Poisson, exponential, and t-distributions to your repertoire."
   ]
  },
  {
   "cell_type": "markdown",
   "id": "e4b77c68",
   "metadata": {},
   "source": [
    "## Distribution of Amir's sales\n",
    "Since each deal Amir worked on (both won and lost) was different, each was worth a different amount of money. These values are stored in the amount column of amir_deals As part of Amir's performance review, we want to be able to estimate the probability of him selling different amounts, but before we can do this, we'll need to determine what kind of distribution the amount variable follows."
   ]
  },
  {
   "cell_type": "code",
   "execution_count": 8,
   "id": "166dcd72",
   "metadata": {},
   "outputs": [],
   "source": [
    "import pandas as pd\n",
    "import numpy as np\n",
    "import matplotlib.pyplot as plt\n",
    "from scipy.stats import norm"
   ]
  },
  {
   "cell_type": "code",
   "execution_count": 5,
   "id": "cf5c6461",
   "metadata": {},
   "outputs": [],
   "source": [
    "amir_deals = pd.read_csv('amir_deals.csv')"
   ]
  },
  {
   "cell_type": "code",
   "execution_count": 6,
   "id": "405bf736",
   "metadata": {},
   "outputs": [
    {
     "data": {
      "image/png": "[encoded data removed]",
      "text/plain": [
       "<Figure size 432x288 with 1 Axes>"
      ]
     },
     "metadata": {
      "needs_background": "light"
     },
     "output_type": "display_data"
    }
   ],
   "source": [
    "# Histogram of amount with 10 bins and show plot\n",
    "amir_deals['amount'].hist(bins=10)\n",
    "plt.show()"
   ]
  },
  {
   "cell_type": "markdown",
   "id": "c7eaf62e",
   "metadata": {},
   "source": [
    "## Probabilities from the normal distribution\n",
    "Since each deal Amir worked on (both won and lost) was different, each was worth a different amount of money. These values are stored in the amount column of amir_deals and follow a normal distribution with a mean of 5000 dollars and a standard deviation of 2000 dollars. As part of his performance metrics, we want to calculate the probability of Amir closing a deal worth various amounts."
   ]
  },
  {
   "cell_type": "code",
   "execution_count": 9,
   "id": "0fa88a07",
   "metadata": {},
   "outputs": [
    {
     "name": "stdout",
     "output_type": "stream",
     "text": [
      "0.8943502263331446\n"
     ]
    }
   ],
   "source": [
    "# Probability of deal < 7500\n",
    "prob_less_7500 = norm.cdf(7500, 5000, 2000)\n",
    "\n",
    "print(prob_less_7500)"
   ]
  },
  {
   "cell_type": "code",
   "execution_count": 10,
   "id": "ffa29880",
   "metadata": {},
   "outputs": [
    {
     "name": "stdout",
     "output_type": "stream",
     "text": [
      "0.9772498680518208\n"
     ]
    }
   ],
   "source": [
    "# Probability of deal > 1000\n",
    "prob_over_1000 = 1- norm.cdf(1000, 5000, 2000)\n",
    "\n",
    "\n",
    "print(prob_over_1000)"
   ]
  },
  {
   "cell_type": "code",
   "execution_count": 11,
   "id": "3e9d975f",
   "metadata": {},
   "outputs": [
    {
     "name": "stdout",
     "output_type": "stream",
     "text": [
      "0.6826894921370859\n"
     ]
    }
   ],
   "source": [
    "# Probability of deal between 3000 and 7000\n",
    "prob_3000_to_7000 = norm.cdf(7000, 5000, 2000) - norm.cdf(3000, 5000, 2000)\n",
    "\n",
    "print(prob_3000_to_7000)"
   ]
  },
  {
   "cell_type": "code",
   "execution_count": 12,
   "id": "5d971b77",
   "metadata": {},
   "outputs": [
    {
     "name": "stdout",
     "output_type": "stream",
     "text": [
      "3651.0204996078364\n"
     ]
    }
   ],
   "source": [
    "# Calculate amount that 25% of deals will be less than\n",
    "pct_25 = norm.ppf(0.25, 5000, 2000)\n",
    "\n",
    "print(pct_25)"
   ]
  },
  {
   "cell_type": "markdown",
   "id": "b5ad2312",
   "metadata": {},
   "source": [
    "## Simulating sales under new market conditions\n",
    "The company's financial analyst is predicting that next quarter, the worth of each sale will increase by 20% and the volatility, or standard deviation, of each sale's worth will increase by 30%. To see what Amir's sales might look like next quarter under these new market conditions, we'll simulate new sales amounts using the normal distribution and store these in the new_sales DataFrame."
   ]
  },
  {
   "cell_type": "code",
   "execution_count": 13,
   "id": "8b10f034",
   "metadata": {},
   "outputs": [
    {
     "data": {
      "image/png": "[encoded data removed]",
      "text/plain": [
       "<Figure size 432x288 with 1 Axes>"
      ]
     },
     "metadata": {
      "needs_background": "light"
     },
     "output_type": "display_data"
    }
   ],
   "source": [
    "# Calculate new average amount\n",
    "new_mean = 5000 * 1.2\n",
    "\n",
    "# Calculate new standard deviation\n",
    "new_sd = 2000 * 1.3\n",
    "\n",
    "# Simulate 36 new sales\n",
    "new_sales = norm.rvs(new_mean, new_sd, size=36)\n",
    "\n",
    "# Create histogram and show\n",
    "plt.hist(new_sales)\n",
    "plt.show()"
   ]
  },
  {
   "cell_type": "code",
   "execution_count": null,
   "id": "f60e5b93",
   "metadata": {},
   "outputs": [],
   "source": []
  },
  {
   "cell_type": "code",
   "execution_count": null,
   "id": "fc277fc5",
   "metadata": {},
   "outputs": [],
   "source": []
  }
 ],
 "metadata": {
  "kernelspec": {
   "display_name": "Python 3 (ipykernel)",
   "language": "python",
   "name": "python3"
  },
  "language_info": {
   "codemirror_mode": {
    "name": "ipython",
    "version": 3
   },
   "file_extension": ".py",
   "mimetype": "text/x-python",
   "name": "python",
   "nbconvert_exporter": "python",
   "pygments_lexer": "ipython3",
   "version": "3.9.12"
  }
 },
 "nbformat": 4,
 "nbformat_minor": 5
}
